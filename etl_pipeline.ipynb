{
 "cells": [
  {
   "cell_type": "code",
   "execution_count": 3,
   "id": "d30cfcc1",
   "metadata": {},
   "outputs": [
    {
     "name": "stdout",
     "output_type": "stream",
     "text": [
      "Loading to CSV is done.\n"
     ]
    }
   ],
   "source": [
    "# Creating Raw Data and Extracting into CSV\n",
    "import pandas as pd\n",
    "import numpy as np\n",
    "\n",
    "raw_data = {\n",
    "    'EmployeeID': [1, 2, 3, 4, 5, 6],\n",
    "    'Name': [' Alice ', 'Bob', 'charlie', '', 'Eve', None],\n",
    "    'Age': [25, 30, 35, 40, None, 50],\n",
    "    'Department': ['HR', 'IT', 'IT', 'Finance', 'HR', 'IT'],\n",
    "    'Salary': ['70000', '80000', 'invalid', '100000', '75000', '85000'],\n",
    "    'HireDate': ['2020-01-01', '2019-05-10', '2021-03-15', '2018-11-20', '', '2017-07-07'],\n",
    "    'IsActive': ['Y', 'Y', 'N', 'Y', 'Y', '']\n",
    "}\n",
    "\n",
    "df = pd.DataFrame(raw_data)\n",
    "df.to_csv(\"raw_employees.csv\", index=False)\n",
    "\n",
    "print(\"Loading to CSV is done.\")"
   ]
  },
  {
   "cell_type": "code",
   "execution_count": 10,
   "id": "0dc43cbc",
   "metadata": {},
   "outputs": [
    {
     "name": "stderr",
     "output_type": "stream",
     "text": [
      "C:\\Users\\komatireddyj\\AppData\\Local\\Temp\\ipykernel_41440\\3613257862.py:13: FutureWarning: Downcasting object dtype arrays on .fillna, .ffill, .bfill is deprecated and will change in a future version. Call result.infer_objects(copy=False) instead. To opt-in to the future behavior, set `pd.set_option('future.no_silent_downcasting', True)`\n",
      "  df['IsActive'] = df['IsActive'].fillna(False)\n"
     ]
    }
   ],
   "source": [
    "# Loading CSV into Dataframe\n",
    "df = pd.read_csv(\"raw_employees.csv\")\n",
    "\n",
    "# Cleaning each columns\n",
    "\n",
    "df['Name'] = df['Name'].fillna('Unknown').str.strip().str.capitalize()\n",
    "df['Age'] = df['Age'].fillna(df['Age'].mean()).astype('int8')\n",
    "df['Salary'] = pd.to_numeric(df['Salary'], errors='coerce')\n",
    "df['Salary'] = df['Salary'].fillna(df['Salary'].mean()).astype('int32')\n",
    "df['HireDate'] = pd.to_datetime(df['HireDate'], errors='coerce')\n",
    "df['HireDate'] = df['HireDate'].fillna(pd.Timestamp('1900-01-01'))\n",
    "df['IsActive'] = df['IsActive'].replace({'Y': True, 'N': False})\n",
    "df['IsActive'] = df['IsActive'].fillna(False)"
   ]
  },
  {
   "cell_type": "code",
   "execution_count": 11,
   "id": "8af104a3",
   "metadata": {},
   "outputs": [],
   "source": [
    "# Enrich\n",
    "df['YearsOfService'] = (pd.Timestamp('2025-07-29')-df['HireDate']).dt.days//365\n",
    "df['SalarysBuckets'] = pd.cut(df['Salary'], bins=[0,50000,100000,float('inf')], labels=['low', 'medium', 'high'])\n"
   ]
  },
  {
   "cell_type": "code",
   "execution_count": 16,
   "id": "08f2a551",
   "metadata": {},
   "outputs": [
    {
     "name": "stdout",
     "output_type": "stream",
     "text": [
      "Cleaned data saved.....!\n"
     ]
    }
   ],
   "source": [
    "# Load -Save OPtimize Data\n",
    "\n",
    "df['EmployeeID'] = df['EmployeeID'].astype('int8')\n",
    "df['Department'] = df['Department'].astype('category')\n",
    "df['IsActive'] = df['IsActive'].astype('bool')\n",
    "#df.to_parquet('Employees.parquet', engine='pyarrow')\n",
    "print(\"Cleaned data saved.....!\")"
   ]
  },
  {
   "cell_type": "code",
   "execution_count": 31,
   "id": "53a150fb",
   "metadata": {},
   "outputs": [
    {
     "name": "stdout",
     "output_type": "stream",
     "text": [
      "📊 Summary report saved to 'hr_summary_report.csv'\n",
      "\n",
      "--- HR Summary Report ---\n",
      "                           EmpCount  AvgSalary  AvgYears\n",
      "Department SalarysBuckets                               \n",
      "Finance    low                    0        NaN       NaN\n",
      "           medium                 1   100000.0       6.0\n",
      "           high                   0        NaN       NaN\n",
      "HR         low                    0        NaN       NaN\n",
      "           medium                 2    72500.0      65.0\n",
      "           high                   0        NaN       NaN\n",
      "IT         low                    0        NaN       NaN\n",
      "           medium                 3    82333.3       6.0\n",
      "           high                   0        NaN       NaN\n"
     ]
    },
    {
     "name": "stderr",
     "output_type": "stream",
     "text": [
      "C:\\Users\\komatireddyj\\AppData\\Local\\Temp\\ipykernel_41440\\1520251233.py:2: FutureWarning: The default of observed=False is deprecated and will be changed to True in a future version of pandas. Pass observed=False to retain current behavior or observed=True to adopt the future default and silence this warning.\n",
      "  report = df.groupby(['Department','SalarysBuckets']).agg(EmpCount=('EmployeeID', 'count'), AvgSalary=('Salary', 'mean'), AvgYears=('YearsOfService', 'mean')).round(1)\n"
     ]
    }
   ],
   "source": [
    "# Generate Report summary\n",
    "report = df.groupby(['Department','SalarysBuckets']).agg(EmpCount=('EmployeeID', 'count'), AvgSalary=('Salary', 'mean'), AvgYears=('YearsOfService', 'mean')).round(1)\n",
    "\n",
    "#report.to_csv('HR_Summary_Report.csv')\n",
    "#print('summary report saved..........!')\n",
    "#print(report)\n",
    "\n",
    "#report = df.groupby(['Department', 'SalarysBuckets']).agg(EmployeeCount=('EmployeeID', 'count'),AvgSalary=('Salary', 'mean'),AvgYears=('YearsOfService', 'mean')).round(1)\n",
    "\n",
    "report.to_csv('hr_summary_report.csv')\n",
    "print(\"📊 Summary report saved to 'hr_summary_report.csv'\")\n",
    "print(\"\\n--- HR Summary Report ---\")\n",
    "print(report)"
   ]
  }
 ],
 "metadata": {
  "kernelspec": {
   "display_name": "Python 3",
   "language": "python",
   "name": "python3"
  },
  "language_info": {
   "codemirror_mode": {
    "name": "ipython",
    "version": 3
   },
   "file_extension": ".py",
   "mimetype": "text/x-python",
   "name": "python",
   "nbconvert_exporter": "python",
   "pygments_lexer": "ipython3",
   "version": "3.10.11"
  }
 },
 "nbformat": 4,
 "nbformat_minor": 5
}
